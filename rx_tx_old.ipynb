{
 "cells": [
  {
   "cell_type": "code",
   "execution_count": 6,
   "id": "d8244a36",
   "metadata": {},
   "outputs": [
    {
     "ename": "TypeError",
     "evalue": "unsupported operand type(s) for /: 'NoneType' and 'int'",
     "output_type": "error",
     "traceback": [
      "\u001b[0;31m---------------------------------------------------------------------------\u001b[0m",
      "\u001b[0;31mTypeError\u001b[0m                                 Traceback (most recent call last)",
      "Cell \u001b[0;32mIn[6], line 37\u001b[0m\n\u001b[1;32m     35\u001b[0m \u001b[38;5;66;03m# Získání dat\u001b[39;00m\n\u001b[1;32m     36\u001b[0m timestamp \u001b[38;5;241m=\u001b[39m datetime\u001b[38;5;241m.\u001b[39mnow()\u001b[38;5;241m.\u001b[39mstrftime(\u001b[38;5;124m'\u001b[39m\u001b[38;5;124m%\u001b[39m\u001b[38;5;124mY-\u001b[39m\u001b[38;5;124m%\u001b[39m\u001b[38;5;124mm-\u001b[39m\u001b[38;5;132;01m%d\u001b[39;00m\u001b[38;5;124m \u001b[39m\u001b[38;5;124m%\u001b[39m\u001b[38;5;124mH:\u001b[39m\u001b[38;5;124m%\u001b[39m\u001b[38;5;124mM:\u001b[39m\u001b[38;5;124m%\u001b[39m\u001b[38;5;124mS\u001b[39m\u001b[38;5;124m'\u001b[39m)\n\u001b[0;32m---> 37\u001b[0m isp_in_mb \u001b[38;5;241m=\u001b[39m \u001b[43mbytes_to_mb\u001b[49m\u001b[43m(\u001b[49m\u001b[43msnmp_get\u001b[49m\u001b[43m(\u001b[49m\u001b[43moids\u001b[49m\u001b[43m[\u001b[49m\u001b[38;5;124;43m'\u001b[39;49m\u001b[38;5;124;43mISP_IN\u001b[39;49m\u001b[38;5;124;43m'\u001b[39;49m\u001b[43m]\u001b[49m\u001b[43m)\u001b[49m\u001b[43m)\u001b[49m\n\u001b[1;32m     38\u001b[0m lan_out_mb \u001b[38;5;241m=\u001b[39m bytes_to_mb(snmp_get(oids[\u001b[38;5;124m'\u001b[39m\u001b[38;5;124mLAN_OUT\u001b[39m\u001b[38;5;124m'\u001b[39m]))\n\u001b[1;32m     39\u001b[0m isp_speed_mbps \u001b[38;5;241m=\u001b[39m bytes_to_mbps(snmp_get(oids[\u001b[38;5;124m'\u001b[39m\u001b[38;5;124mISP_SPEED\u001b[39m\u001b[38;5;124m'\u001b[39m]))\n",
      "Cell \u001b[0;32mIn[6], line 30\u001b[0m, in \u001b[0;36mbytes_to_mb\u001b[0;34m(value)\u001b[0m\n\u001b[1;32m     29\u001b[0m \u001b[38;5;28;01mdef\u001b[39;00m\u001b[38;5;250m \u001b[39m\u001b[38;5;21mbytes_to_mb\u001b[39m(value):\n\u001b[0;32m---> 30\u001b[0m     \u001b[38;5;28;01mreturn\u001b[39;00m \u001b[38;5;28mround\u001b[39m(\u001b[43mvalue\u001b[49m\u001b[43m \u001b[49m\u001b[38;5;241;43m/\u001b[39;49m\u001b[43m \u001b[49m\u001b[43m(\u001b[49m\u001b[38;5;241;43m1024\u001b[39;49m\u001b[43m \u001b[49m\u001b[38;5;241;43m*\u001b[39;49m\u001b[43m \u001b[49m\u001b[38;5;241;43m1024\u001b[39;49m\u001b[43m)\u001b[49m, \u001b[38;5;241m2\u001b[39m)\n",
      "\u001b[0;31mTypeError\u001b[0m: unsupported operand type(s) for /: 'NoneType' and 'int'"
     ]
    }
   ],
   "source": [
    "import csv\n",
    "from datetime import datetime\n",
    "from pysnmp.hlapi import *\n",
    "\n",
    "# SNMP nastavení\n",
    "target_ip = '192.168.1.1'\n",
    "community = 'public'\n",
    "port = 161\n",
    "oids = {\n",
    "    'ISP_IN': '1.3.6.1.2.1.2.2.1.10.2',     # příklad OID pro Rx\n",
    "    'LAN_OUT': '1.3.6.1.2.1.2.2.1.16.3',    # příklad OID pro Tx\n",
    "    'ISP_SPEED': '1.3.6.1.2.1.2.2.1.5.2'    # příklad OID pro speed (bajty/s)\n",
    "}\n",
    "\n",
    "def snmp_get(oid):\n",
    "    iterator = getCmd(\n",
    "        SnmpEngine(),\n",
    "        CommunityData(community, mpModel=0),\n",
    "        UdpTransportTarget((target_ip, port), timeout=3, retries=2),\n",
    "        ContextData(),\n",
    "        ObjectType(ObjectIdentity(oid))\n",
    "    )\n",
    "    errorIndication, errorStatus, errorIndex, varBinds = next(iterator)\n",
    "    if errorIndication or errorStatus:\n",
    "        return None\n",
    "    for varBind in varBinds:\n",
    "        return int(varBind[1])\n",
    "\n",
    "def bytes_to_mb(value):\n",
    "    return round(value / (1024 * 1024), 2)\n",
    "\n",
    "def bytes_to_mbps(value):\n",
    "    return round((value * 8) / (1024 * 1024), 2)\n",
    "\n",
    "# Získání dat\n",
    "timestamp = datetime.now().strftime('%Y-%m-%d %H:%M:%S')\n",
    "isp_in_mb = bytes_to_mb(snmp_get(oids['ISP_IN']))\n",
    "lan_out_mb = bytes_to_mb(snmp_get(oids['LAN_OUT']))\n",
    "isp_speed_mbps = bytes_to_mbps(snmp_get(oids['ISP_SPEED']))\n",
    "\n",
    "# Zápis do CSV\n",
    "with open('traffic_log.csv', mode='a', newline='') as file:\n",
    "    writer = csv.writer(file)\n",
    "    writer.writerow([timestamp, isp_in_mb, lan_out_mb, isp_speed_mbps])\n",
    "\n"
   ]
  },
  {
   "cell_type": "code",
   "execution_count": null,
   "id": "b266aa6c",
   "metadata": {},
   "outputs": [
    {
     "name": "stdout",
     "output_type": "stream",
     "text": [
      "/Users/Marek/miniconda3/envs/snmp_env_310/bin/python\n"
     ]
    }
   ],
   "source": [
    "import sys\n",
    "print(sys.executable)"
   ]
  },
  {
   "cell_type": "code",
   "execution_count": null,
   "id": "ac6da67e",
   "metadata": {},
   "outputs": [
    {
     "name": "stdout",
     "output_type": "stream",
     "text": [
      "✅ pysnmp funguje!\n"
     ]
    }
   ],
   "source": [
    "from pysnmp.hlapi import *\n",
    "print(\"✅ pysnmp funguje!\")\n"
   ]
  },
  {
   "cell_type": "code",
   "execution_count": null,
   "id": "a4aea2c6",
   "metadata": {},
   "outputs": [
    {
     "name": "stdout",
     "output_type": "stream",
     "text": [
      "pysnmp            7.1.21\n"
     ]
    }
   ],
   "source": [
    "!pip list | grep pysnmp\n"
   ]
  },
  {
   "cell_type": "code",
   "execution_count": null,
   "id": "0884f005",
   "metadata": {},
   "outputs": [
    {
     "name": "stdout",
     "output_type": "stream",
     "text": [
      "✅ getCmd funguje\n"
     ]
    }
   ],
   "source": [
    "from pysnmp.hlapi import getCmd\n",
    "print(\"✅ getCmd funguje\")\n",
    "\n",
    "\n"
   ]
  },
  {
   "cell_type": "code",
   "execution_count": null,
   "id": "38ce8d3c",
   "metadata": {},
   "outputs": [
    {
     "name": "stdout",
     "output_type": "stream",
     "text": [
      "/Users/Marek/miniconda3/envs/snmp_env_310/lib/python3.10/site-packages/pysnmp/__init__.py\n"
     ]
    }
   ],
   "source": [
    "import pysnmp\n",
    "print(pysnmp.__file__)\n"
   ]
  },
  {
   "cell_type": "markdown",
   "id": "72f041fc",
   "metadata": {},
   "source": [
    "\n"
   ]
  },
  {
   "cell_type": "code",
   "execution_count": null,
   "id": "21f66099",
   "metadata": {},
   "outputs": [
    {
     "name": "stdout",
     "output_type": "stream",
     "text": [
      "1.3.6.1.2.1.2.2.1.2.1 → lo\n",
      "1.3.6.1.2.1.2.2.1.2.2 → eth0\n",
      "1.3.6.1.2.1.2.2.1.2.3 → gre0\n",
      "1.3.6.1.2.1.2.2.1.2.4 → wifi1\n",
      "1.3.6.1.2.1.2.2.1.2.5 → teql0\n",
      "1.3.6.1.2.1.2.2.1.2.6 → wifi0\n",
      "1.3.6.1.2.1.2.2.1.2.7 → ath0\n",
      "1.3.6.1.2.1.2.2.1.2.8 → br0\n",
      "1.3.6.1.2.1.2.2.1.2.9 → airview1\n"
     ]
    }
   ],
   "source": [
    "from pysnmp.hlapi import *\n",
    "\n",
    "target_ip = '192.168.11.100'\n",
    "community = 'omegadejdar'\n",
    "port = 161\n",
    "\n",
    "def snmp_walk(oid):\n",
    "    results = []\n",
    "    for (errorIndication, errorStatus, errorIndex, varBinds) in nextCmd(\n",
    "        SnmpEngine(),\n",
    "        CommunityData(community, mpModel=0),\n",
    "        UdpTransportTarget((target_ip, port), timeout=3, retries=2),\n",
    "        ContextData(),\n",
    "        ObjectType(ObjectIdentity(oid)),\n",
    "        lexicographicMode=False\n",
    "    ):\n",
    "        if errorIndication or errorStatus:\n",
    "            print(\"SNMP chyba:\", errorIndication or errorStatus)\n",
    "            break\n",
    "        for varBind in varBinds:\n",
    "            results.append((str(varBind[0]), varBind[1].prettyPrint()))\n",
    "    return results\n",
    "\n",
    "# Získání názvů rozhraní\n",
    "if_descr_list = snmp_walk('1.3.6.1.2.1.2.2.1.2')\n",
    "\n",
    "# Výpis\n",
    "for oid, name in if_descr_list:\n",
    "    print(f\"{oid} → {name}\")\n"
   ]
  },
  {
   "cell_type": "code",
   "execution_count": null,
   "id": "d7e62252",
   "metadata": {},
   "outputs": [
    {
     "name": "stdout",
     "output_type": "stream",
     "text": [
      "Chyba: No SNMP response received before timeout\n"
     ]
    }
   ],
   "source": [
    "from pysnmp.hlapi import *\n",
    "\n",
    "target_ip = '192.168.11.100'\n",
    "community = 'omegadejdar'\n",
    "oid = '1.3.6.1.2.1.2.2.1.2'  # ifDescr\n",
    "\n",
    "for (errorIndication, errorStatus, errorIndex, varBinds) in nextCmd(\n",
    "    SnmpEngine(),\n",
    "    CommunityData(community),\n",
    "    UdpTransportTarget((target_ip, 161)),\n",
    "    ContextData(),\n",
    "    ObjectType(ObjectIdentity(oid)),\n",
    "    lexicographicMode=False\n",
    "):\n",
    "    if errorIndication:\n",
    "        print(f\"Chyba: {errorIndication}\")\n",
    "        break\n",
    "    elif errorStatus:\n",
    "        print(f\"{errorStatus.prettyPrint()} at {errorIndex}\")\n",
    "        break\n",
    "    else:\n",
    "        for varBind in varBinds:\n",
    "            print(f\"{varBind[0]} = {varBind[1]}\")\n",
    "\n"
   ]
  }
 ],
 "metadata": {
  "kernelspec": {
   "display_name": "snmp_fresh",
   "language": "python",
   "name": "python3"
  },
  "language_info": {
   "codemirror_mode": {
    "name": "ipython",
    "version": 3
   },
   "file_extension": ".py",
   "mimetype": "text/x-python",
   "name": "python",
   "nbconvert_exporter": "python",
   "pygments_lexer": "ipython3",
   "version": "3.10.18"
  }
 },
 "nbformat": 4,
 "nbformat_minor": 5
}
